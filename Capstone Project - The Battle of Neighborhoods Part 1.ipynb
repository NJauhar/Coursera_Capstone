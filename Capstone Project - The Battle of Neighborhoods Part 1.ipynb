{
 "cells": [
  {
   "cell_type": "markdown",
   "metadata": {},
   "source": [
    "# Capstone Project - The Battle of Neighborhoods Part 1"
   ]
  },
  {
   "cell_type": "markdown",
   "metadata": {},
   "source": [
    "## **Introduction**\n",
    "With Covid-19 and Brexit firmly taken route in the UK, it is imperetive to sell London as an international city which is safe for skilled foreign immigrants to come and settle. Especially those who will work for the NHS. The Covid19 crisis has shown how fractured our NHS and society is since the Brexit Vote. With a large outflowing of foreign professionals going bck to their country of origin. \n",
    "\n",
    "I have taken it upo myself to highlight the safest boroughs for our key healthcare workers from abroad to settle in. I intend to show what London has to offer in both Venues and the crime rates within each borough. I will help explore amanities and transportation links.\n",
    "\n",
    "The population of the London is estimated to be around 8.96 million people in 2019, an increase of over 2 million people when compared with the early 1980s. Throughout the 1980s the population of the United Kingdom's capital grew at a very slow rate, before accelerating to a much faster rate in the 1990s.\n",
    "\n",
    "London is one of the most ethnically diverse cities in the world. A 2000 survey of school children reported there were over 300 languages spoken at home.[1]\n",
    "\n",
    "At the 2011 census, London had a population of 8,173,941. Of this number 44.9% were White British. 37% of the population were born outside the UK, including 24.5% born outside of Europe."
   ]
  },
  {
   "cell_type": "markdown",
   "metadata": {},
   "source": [
    "# Data Section"
   ]
  },
  {
   "cell_type": "markdown",
   "metadata": {},
   "source": [
    " ## Data Acquisition and Preprocessing \n",
    "\n",
    "### In this project, I will be using the following datasets to help solve my problem:\n",
    "* The London Burough data was scrapped from London Borough Wikipedia page\n",
    "* Foursquare and geopy data to list various selected venues that I believe will be important for our target audience.\n",
    "* The downloaded crime data for London from  https://data.london.gov.uk/dataset/recorded_crime_summary\n",
    " \n",
    "* I will then filter the top 10 most common venue types of each neighborhoods. \n",
    "* The target audience will be given the top ten venues of each neighbourhood so they could look at them in determining which neighbourhood to settle\n",
    "* Neighborhoods or Boroughs will be clustered into different groups based on commom attributes."
   ]
  },
  {
   "cell_type": "markdown",
   "metadata": {},
   "source": [
    "## Methodology\n",
    "* I will mainly rely on Foursquare API to retrieve all venues of each neighborhoods. \n",
    "* I will then filter the top 10 most common venue types of each neighborhoods or Borough. \n",
    "* The neighborhoods will be then put in different clusters based on similar or common atributes using K-means clustering.\n",
    "* I will also explore and analyse the crime data and show the crime rate (crime per 1000 people) for each Borough.\n",
    "* The target audience will be given the top ten venues of each neighbourhood so they could look at them in determining which neighbourhood to settle.\n",
    "* The target audience will be shown the crime levels of all the boroughs and or neighborhoods.\n",
    "* To make things easier for our target audience, the Boroughs will be put into clusters or groups based on their venues characteristics like busy, lively and traveller areas."
   ]
  },
  {
   "cell_type": "code",
   "execution_count": null,
   "metadata": {},
   "outputs": [],
   "source": []
  }
 ],
 "metadata": {
  "kernelspec": {
   "display_name": "Python 3",
   "language": "python",
   "name": "python3"
  },
  "language_info": {
   "codemirror_mode": {
    "name": "ipython",
    "version": 3
   },
   "file_extension": ".py",
   "mimetype": "text/x-python",
   "name": "python",
   "nbconvert_exporter": "python",
   "pygments_lexer": "ipython3",
   "version": "3.7.6"
  }
 },
 "nbformat": 4,
 "nbformat_minor": 4
}
